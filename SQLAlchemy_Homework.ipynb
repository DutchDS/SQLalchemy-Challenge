{
 "cells": [
  {
   "cell_type": "code",
   "execution_count": 1,
   "metadata": {},
   "outputs": [],
   "source": [
    "%matplotlib inline\n",
    "from matplotlib import style\n",
    "style.use('fivethirtyeight')\n",
    "import matplotlib.pyplot as plt\n",
    "\n",
    "import numpy as np\n",
    "import pandas as pd\n",
    "\n",
    "import datetime as dt\n",
    "import scipy.stats as stats\n",
    "from scipy import stats\n",
    "from datetime import datetime, timedelta"
   ]
  },
  {
   "cell_type": "markdown",
   "metadata": {},
   "source": [
    "# Reflect Tables into SQLAlchemy ORM"
   ]
  },
  {
   "cell_type": "code",
   "execution_count": 2,
   "metadata": {},
   "outputs": [],
   "source": [
    "# Python SQL toolkit and Object Relational Mapper\n",
    "import sqlalchemy\n",
    "from sqlalchemy.ext.automap import automap_base\n",
    "from sqlalchemy.orm import Session\n",
    "from sqlalchemy import create_engine, func"
   ]
  },
  {
   "cell_type": "code",
   "execution_count": 3,
   "metadata": {},
   "outputs": [],
   "source": [
    "engine = create_engine(\"sqlite:///Resources/hawaii.sqlite\")"
   ]
  },
  {
   "cell_type": "code",
   "execution_count": 4,
   "metadata": {},
   "outputs": [],
   "source": [
    "# reflect an existing database into a new model\n",
    "Base = automap_base()\n",
    "# reflect the tables\n",
    "Base.prepare(engine, reflect=True)"
   ]
  },
  {
   "cell_type": "code",
   "execution_count": 5,
   "metadata": {},
   "outputs": [
    {
     "data": {
      "text/plain": [
       "['measurement', 'station']"
      ]
     },
     "execution_count": 5,
     "metadata": {},
     "output_type": "execute_result"
    }
   ],
   "source": [
    "# We can view all of the classes that automap found\n",
    "Base.classes.keys()"
   ]
  },
  {
   "cell_type": "code",
   "execution_count": 6,
   "metadata": {},
   "outputs": [],
   "source": [
    "# Save references to each table\n",
    "Measurement = Base.classes.measurement\n",
    "Station = Base.classes.station"
   ]
  },
  {
   "cell_type": "code",
   "execution_count": 7,
   "metadata": {},
   "outputs": [],
   "source": [
    "# Create our session (link) from Python to the DB\n",
    "session = Session(engine)\n",
    "connection = engine.connect()"
   ]
  },
  {
   "cell_type": "markdown",
   "metadata": {},
   "source": [
    "# Exploratory Climate Analysis"
   ]
  },
  {
   "cell_type": "code",
   "execution_count": 26,
   "metadata": {},
   "outputs": [
    {
     "name": "stdout",
     "output_type": "stream",
     "text": [
      "Last Date Found: 2017-08-23, so Date one Year Prior: 2016-08-23\n"
     ]
    },
    {
     "data": {
      "text/html": [
       "<div>\n",
       "<style scoped>\n",
       "    .dataframe tbody tr th:only-of-type {\n",
       "        vertical-align: middle;\n",
       "    }\n",
       "\n",
       "    .dataframe tbody tr th {\n",
       "        vertical-align: top;\n",
       "    }\n",
       "\n",
       "    .dataframe thead th {\n",
       "        text-align: right;\n",
       "    }\n",
       "</style>\n",
       "<table border=\"1\" class=\"dataframe\">\n",
       "  <thead>\n",
       "    <tr style=\"text-align: right;\">\n",
       "      <th></th>\n",
       "      <th>prcp</th>\n",
       "      <th>station</th>\n",
       "    </tr>\n",
       "    <tr>\n",
       "      <th>date</th>\n",
       "      <th></th>\n",
       "      <th></th>\n",
       "    </tr>\n",
       "  </thead>\n",
       "  <tbody>\n",
       "    <tr>\n",
       "      <th>2016-08-23</th>\n",
       "      <td>0.00</td>\n",
       "      <td>USC00519397</td>\n",
       "    </tr>\n",
       "    <tr>\n",
       "      <th>2016-08-23</th>\n",
       "      <td>0.02</td>\n",
       "      <td>USC00519523</td>\n",
       "    </tr>\n",
       "    <tr>\n",
       "      <th>2016-08-23</th>\n",
       "      <td>0.05</td>\n",
       "      <td>USC00514830</td>\n",
       "    </tr>\n",
       "    <tr>\n",
       "      <th>2016-08-23</th>\n",
       "      <td>0.70</td>\n",
       "      <td>USC00516128</td>\n",
       "    </tr>\n",
       "    <tr>\n",
       "      <th>2016-08-23</th>\n",
       "      <td>0.15</td>\n",
       "      <td>USC00513117</td>\n",
       "    </tr>\n",
       "  </tbody>\n",
       "</table>\n",
       "</div>"
      ],
      "text/plain": [
       "            prcp      station\n",
       "date                         \n",
       "2016-08-23  0.00  USC00519397\n",
       "2016-08-23  0.02  USC00519523\n",
       "2016-08-23  0.05  USC00514830\n",
       "2016-08-23  0.70  USC00516128\n",
       "2016-08-23  0.15  USC00513117"
      ]
     },
     "execution_count": 26,
     "metadata": {},
     "output_type": "execute_result"
    },
    {
     "data": {
      "image/png": "[encoded data removed]",
      "text/plain": [
       "<Figure size 432x288 with 1 Axes>"
      ]
     },
     "metadata": {
      "needs_background": "light"
     },
     "output_type": "display_data"
    }
   ],
   "source": [
    "# Design a query to retrieve the last 12 months of precipitation data and plot the results\n",
    "# Calculate the date 1 year ago from the last data point in the database\n",
    "# I will be using both, the pandas.read_sql option and the session.query option as they are interchangeble\n",
    "# For min, max, avg, count etc. queries I'll use session.query, for the larger datasets and pandas I'll use the read_sql method\n",
    "\n",
    "get_last_date = session.query(func.max(Measurement.date))\n",
    "for d in get_last_date:\n",
    "    d_date = d[0]\n",
    "\n",
    "max_date = d_date\n",
    "max_year = int(max_date[0:4])\n",
    "min_year = str(max_year-1)\n",
    "min_date = max_date.replace(str(max_year),str(min_year))\n",
    "print(f\"Last Date Found: {max_date}, so Date one Year Prior: {min_date}\")\n",
    "\n",
    "# Perform a query to retrieve the data and precipitation scores\n",
    "sql_precip = (\"SELECT prcp, station, date FROM measurement WHERE date between '\" + min_date + \"' and '\" + max_date + \"';\")\n",
    "\n",
    "# Save the query results as a Pandas DataFrame and set the index to the date column\n",
    "df_precip = pd.read_sql(sql_precip, con=connection)\n",
    "df_precip = df_precip.set_index('date')\n",
    "df_precip = df_precip.dropna(how='any')\n",
    "\n",
    "# Sort the dataframe by date\n",
    "df_precip = df_precip.sort_values('date')\n",
    "\n",
    "# Use Pandas Plotting with Matplotlib to plot the data\n",
    "x_axis = df_precip.index\n",
    "y_axis = df_precip.prcp\n",
    "\n",
    "plt.bar(x_axis, y_axis, color = 'darkorchid', width = 3)\n",
    "plt.xlabel(\"Date\")\n",
    "plt.xticks([])\n",
    "plt.ylabel(\"Precipitation (in mm)\") # I think mm since the average rainfall in Hawaii was about 17 Inches total in 2017 - source: Google\n",
    "plt.title(f\"Precipitation (in mm) between {min_date} and {max_date}\")\n",
    "df_precip.head()"
   ]
  },
  {
   "cell_type": "markdown",
   "metadata": {},
   "source": [
    "![precipitation](Images/precipitation.png)"
   ]
  },
  {
   "cell_type": "code",
   "execution_count": 9,
   "metadata": {},
   "outputs": [
    {
     "data": {
      "text/html": [
       "<div>\n",
       "<style scoped>\n",
       "    .dataframe tbody tr th:only-of-type {\n",
       "        vertical-align: middle;\n",
       "    }\n",
       "\n",
       "    .dataframe tbody tr th {\n",
       "        vertical-align: top;\n",
       "    }\n",
       "\n",
       "    .dataframe thead th {\n",
       "        text-align: right;\n",
       "    }\n",
       "</style>\n",
       "<table border=\"1\" class=\"dataframe\">\n",
       "  <thead>\n",
       "    <tr style=\"text-align: right;\">\n",
       "      <th></th>\n",
       "      <th>prcp</th>\n",
       "    </tr>\n",
       "  </thead>\n",
       "  <tbody>\n",
       "    <tr>\n",
       "      <th>count</th>\n",
       "      <td>2021.000000</td>\n",
       "    </tr>\n",
       "    <tr>\n",
       "      <th>mean</th>\n",
       "      <td>0.177279</td>\n",
       "    </tr>\n",
       "    <tr>\n",
       "      <th>std</th>\n",
       "      <td>0.461190</td>\n",
       "    </tr>\n",
       "    <tr>\n",
       "      <th>min</th>\n",
       "      <td>0.000000</td>\n",
       "    </tr>\n",
       "    <tr>\n",
       "      <th>25%</th>\n",
       "      <td>0.000000</td>\n",
       "    </tr>\n",
       "    <tr>\n",
       "      <th>50%</th>\n",
       "      <td>0.020000</td>\n",
       "    </tr>\n",
       "    <tr>\n",
       "      <th>75%</th>\n",
       "      <td>0.130000</td>\n",
       "    </tr>\n",
       "    <tr>\n",
       "      <th>max</th>\n",
       "      <td>6.700000</td>\n",
       "    </tr>\n",
       "  </tbody>\n",
       "</table>\n",
       "</div>"
      ],
      "text/plain": [
       "              prcp\n",
       "count  2021.000000\n",
       "mean      0.177279\n",
       "std       0.461190\n",
       "min       0.000000\n",
       "25%       0.000000\n",
       "50%       0.020000\n",
       "75%       0.130000\n",
       "max       6.700000"
      ]
     },
     "execution_count": 9,
     "metadata": {},
     "output_type": "execute_result"
    }
   ],
   "source": [
    "# Use Pandas to calcualte the summary statistics for the precipitation data\n",
    "df_precip.describe()"
   ]
  },
  {
   "cell_type": "markdown",
   "metadata": {},
   "source": [
    "![describe](Images/describe.png)"
   ]
  },
  {
   "cell_type": "code",
   "execution_count": 10,
   "metadata": {},
   "outputs": [
    {
     "name": "stdout",
     "output_type": "stream",
     "text": [
      "Number of Stations 9\n"
     ]
    }
   ],
   "source": [
    "# Design a query to show how many stations are available in this dataset?\n",
    "df_stations_new = session.query(Station.station, func.count(Station.station))\n",
    "for i in df_stations_new:\n",
    "    stat_count = i[1]\n",
    "print(f\"Number of Stations {stat_count}\")"
   ]
  },
  {
   "cell_type": "code",
   "execution_count": 11,
   "metadata": {},
   "outputs": [
    {
     "name": "stdout",
     "output_type": "stream",
     "text": [
      "Station WAIHEE 837.5, HI US, (USC00519281) is the most active station\n"
     ]
    },
    {
     "data": {
      "text/html": [
       "<div>\n",
       "<style scoped>\n",
       "    .dataframe tbody tr th:only-of-type {\n",
       "        vertical-align: middle;\n",
       "    }\n",
       "\n",
       "    .dataframe tbody tr th {\n",
       "        vertical-align: top;\n",
       "    }\n",
       "\n",
       "    .dataframe thead th {\n",
       "        text-align: right;\n",
       "    }\n",
       "</style>\n",
       "<table border=\"1\" class=\"dataframe\">\n",
       "  <thead>\n",
       "    <tr style=\"text-align: right;\">\n",
       "      <th></th>\n",
       "      <th>name</th>\n",
       "      <th>station</th>\n",
       "      <th>measurements</th>\n",
       "    </tr>\n",
       "  </thead>\n",
       "  <tbody>\n",
       "    <tr>\n",
       "      <th>0</th>\n",
       "      <td>WAIHEE 837.5, HI US</td>\n",
       "      <td>USC00519281</td>\n",
       "      <td>2772</td>\n",
       "    </tr>\n",
       "    <tr>\n",
       "      <th>1</th>\n",
       "      <td>WAIKIKI 717.2, HI US</td>\n",
       "      <td>USC00519397</td>\n",
       "      <td>2724</td>\n",
       "    </tr>\n",
       "    <tr>\n",
       "      <th>2</th>\n",
       "      <td>KANEOHE 838.1, HI US</td>\n",
       "      <td>USC00513117</td>\n",
       "      <td>2709</td>\n",
       "    </tr>\n",
       "    <tr>\n",
       "      <th>3</th>\n",
       "      <td>WAIMANALO EXPERIMENTAL FARM, HI US</td>\n",
       "      <td>USC00519523</td>\n",
       "      <td>2669</td>\n",
       "    </tr>\n",
       "    <tr>\n",
       "      <th>4</th>\n",
       "      <td>MANOA LYON ARBO 785.2, HI US</td>\n",
       "      <td>USC00516128</td>\n",
       "      <td>2612</td>\n",
       "    </tr>\n",
       "    <tr>\n",
       "      <th>5</th>\n",
       "      <td>KUALOA RANCH HEADQUARTERS 886.9, HI US</td>\n",
       "      <td>USC00514830</td>\n",
       "      <td>2202</td>\n",
       "    </tr>\n",
       "    <tr>\n",
       "      <th>6</th>\n",
       "      <td>HONOLULU OBSERVATORY 702.2, HI US</td>\n",
       "      <td>USC00511918</td>\n",
       "      <td>1979</td>\n",
       "    </tr>\n",
       "    <tr>\n",
       "      <th>7</th>\n",
       "      <td>PEARL CITY, HI US</td>\n",
       "      <td>USC00517948</td>\n",
       "      <td>1372</td>\n",
       "    </tr>\n",
       "    <tr>\n",
       "      <th>8</th>\n",
       "      <td>UPPER WAHIAWA 874.3, HI US</td>\n",
       "      <td>USC00518838</td>\n",
       "      <td>511</td>\n",
       "    </tr>\n",
       "  </tbody>\n",
       "</table>\n",
       "</div>"
      ],
      "text/plain": [
       "                                     name      station  measurements\n",
       "0                     WAIHEE 837.5, HI US  USC00519281          2772\n",
       "1                    WAIKIKI 717.2, HI US  USC00519397          2724\n",
       "2                    KANEOHE 838.1, HI US  USC00513117          2709\n",
       "3      WAIMANALO EXPERIMENTAL FARM, HI US  USC00519523          2669\n",
       "4            MANOA LYON ARBO 785.2, HI US  USC00516128          2612\n",
       "5  KUALOA RANCH HEADQUARTERS 886.9, HI US  USC00514830          2202\n",
       "6       HONOLULU OBSERVATORY 702.2, HI US  USC00511918          1979\n",
       "7                       PEARL CITY, HI US  USC00517948          1372\n",
       "8              UPPER WAHIAWA 874.3, HI US  USC00518838           511"
      ]
     },
     "execution_count": 11,
     "metadata": {},
     "output_type": "execute_result"
    }
   ],
   "source": [
    "# What are the most active stations? (i.e. what stations have the most rows)?\n",
    "# List the stations and the counts in descending order.\n",
    "sql_act_stations = \"SELECT s.name, s.station, COUNT(m.tobs) as measurements FROM measurement m INNER JOIN station s ON m.station=s.station \\\n",
    "                    GROUP BY s.name, s.station ORDER BY COUNT(m.tobs) DESC\"\n",
    "df_stations = pd.read_sql_query(sql_act_stations, con=connection)\n",
    "\n",
    "max_station = df_stations.iloc[0,0]\n",
    "max_station_id = df_stations.iloc[0,1]\n",
    "print(f\"Station {max_station}, ({max_station_id}) is the most active station\")\n",
    "df_stations"
   ]
  },
  {
   "cell_type": "code",
   "execution_count": 12,
   "metadata": {},
   "outputs": [
    {
     "name": "stdout",
     "output_type": "stream",
     "text": [
      "The most active station USC00519281 in the previous year had:\n",
      "Minimum temperature of 54.0°F\n",
      "Maximum temperature of 85.0°F\n",
      "Average temperature of 71.66°F\n"
     ]
    }
   ],
   "source": [
    "# Using the station id from the previous query, calculate the lowest temperature recorded, \n",
    "# highest temperature recorded, and average temperature of the most active station?\n",
    "sel = [Measurement.station, func.min(Measurement.tobs), func.max(Measurement.tobs), func.avg(Measurement.tobs)]\n",
    "df_most_active = session.query(*sel).filter(Measurement.station == max_station_id).all()\n",
    "\n",
    "for d in df_most_active:\n",
    "    d_station = d[0]\n",
    "    d_min = d[1]\n",
    "    d_max = d[2]\n",
    "    d_avg = round(d[3],2)\n",
    "    \n",
    "print(f\"The most active station {d_station} in the previous year had:\")\n",
    "print(f\"Minimum temperature of {d_min}°F\")\n",
    "print(f\"Maximum temperature of {d_max}°F\")\n",
    "print(f\"Average temperature of {d_avg}°F\")"
   ]
  },
  {
   "cell_type": "code",
   "execution_count": 13,
   "metadata": {},
   "outputs": [
    {
     "data": {
      "text/plain": [
       "Text(0.5, 1.0, 'Temperature Frequency for USC00519281 over the past year')"
      ]
     },
     "execution_count": 13,
     "metadata": {},
     "output_type": "execute_result"
    },
    {
     "data": {
      "image/png": "[encoded data removed]",
      "text/plain": [
       "<Figure size 432x288 with 1 Axes>"
      ]
     },
     "metadata": {
      "needs_background": "light"
     },
     "output_type": "display_data"
    }
   ],
   "source": [
    "# Choose the station with the highest number of temperature observations.\n",
    "# Query the last 12 months of temperature observation data for this station and plot the results as a histogram\n",
    "sel = [Measurement.station, Measurement.tobs]\n",
    "df_tobs = pd.DataFrame(session.query(*sel).filter(Measurement.station == max_station_id). \\\n",
    "                            filter(Measurement.date >= min_date).filter(Measurement.date <= max_date).all())\n",
    "\n",
    "# Just for the heck of it, get the station name without the mumbo jumbo\n",
    "station_name = df_tobs.iloc[0,0]\n",
    "station_name = str.split(station_name,\" \")\n",
    "station_name = station_name[0]\n",
    "\n",
    "x_axis = df_tobs['tobs']\n",
    "plt.hist(x_axis, 12, facecolor='mediumpurple', alpha=0.75)\n",
    "plt.xlabel(\"Temperature in °F\")\n",
    "plt.ylabel(\"Frequency\")\n",
    "plt.title(\"Temperature Frequency for \" + station_name + \" over the past year\")"
   ]
  },
  {
   "cell_type": "markdown",
   "metadata": {},
   "source": [
    "![precipitation](Images/station-histogram.png)"
   ]
  },
  {
   "cell_type": "markdown",
   "metadata": {},
   "source": [
    "# Daily Rainfall Average"
   ]
  },
  {
   "cell_type": "code",
   "execution_count": 14,
   "metadata": {
    "scrolled": true
   },
   "outputs": [
    {
     "data": {
      "text/plain": [
       "[(62.0, 69.15384615384616, 77.0)]"
      ]
     },
     "execution_count": 14,
     "metadata": {},
     "output_type": "execute_result"
    }
   ],
   "source": [
    "# Create a query that will calculate the daily normals \n",
    "# (i.e. the averages for tmin, tmax, and tavg for all historic data matching a specific month and day)\n",
    "\n",
    "def daily_normals(date):\n",
    "    \"\"\"Daily Normals.\n",
    "    \n",
    "    Args:\n",
    "        date (str): A date string in the format '%m-%d'\n",
    "        \n",
    "    Returns:\n",
    "        A list of tuples containing the daily normals, tmin, tavg, and tmax\n",
    "    \n",
    "    \"\"\"\n",
    "    \n",
    "    sel = [func.min(Measurement.tobs), func.avg(Measurement.tobs), func.max(Measurement.tobs)]\n",
    "    return session.query(*sel).filter(func.strftime(\"%m-%d\", Measurement.date) == date).all()\n",
    "    \n",
    "daily_normals(\"01-01\")"
   ]
  },
  {
   "cell_type": "code",
   "execution_count": 15,
   "metadata": {},
   "outputs": [
    {
     "name": "stdout",
     "output_type": "stream",
     "text": [
      "02-05 [(59.0, 69.6842105263158, 80.0)]\n",
      "02-06 [(58.0, 70.38983050847457, 77.0)]\n",
      "02-07 [(60.0, 69.0, 77.0)]\n",
      "02-08 [(56.0, 66.75438596491227, 74.0)]\n",
      "02-09 [(57.0, 67.58928571428571, 75.0)]\n",
      "02-10 [(56.0, 68.41666666666667, 76.0)]\n",
      "02-11 [(61.0, 69.25, 79.0)]\n",
      "02-12 [(60.0, 69.15789473684211, 78.0)]\n",
      "02-13 [(58.0, 70.36206896551724, 80.0)]\n",
      "02-14 [(62.0, 70.89473684210526, 79.0)]\n",
      "02-15 [(56.0, 70.28813559322033, 79.0)]\n"
     ]
    }
   ],
   "source": [
    "# calculate the daily normals for your trip\n",
    "# push each tuple of calculations into a list called `normals`\n",
    "\n",
    "# Set the start and end date of the trip\n",
    "\n",
    "# start_date = input(\"Start Date of your Trip: \")\n",
    "# end_date = input(\"End Date of your Trip: \")\n",
    "start_date = '2018-02-05'\n",
    "end_date = '2018-02-15'\n",
    "\n",
    "# Use the start and end date to create a range of dates\n",
    "date_range = []\n",
    "var_date = start_date\n",
    "date_range.append(var_date)\n",
    "\n",
    "while var_date < end_date:\n",
    "    loc_date = datetime.strptime(var_date, \"%Y-%m-%d\")\n",
    "    modified_date = loc_date + timedelta(days=1)\n",
    "    var_date = datetime.strftime(modified_date, \"%Y-%m-%d\")\n",
    "    date_range.append(var_date)\n",
    "\n",
    "date_range\n",
    "\n",
    "# Stip off the year and save a list of %m-%d strings\n",
    "strip_range = []\n",
    "for d in date_range:\n",
    "    strip_string = d[5:]\n",
    "    strip_range.append(strip_string)\n",
    "\n",
    "strip_range\n",
    "\n",
    "# Loop through the list of %m-%d strings and calculate the normals for each date\n",
    "for s in strip_range:\n",
    "    output = daily_normals(s)\n",
    "    print(s , output)"
   ]
  },
  {
   "cell_type": "code",
   "execution_count": 16,
   "metadata": {},
   "outputs": [
    {
     "data": {
      "text/html": [
       "<div>\n",
       "<style scoped>\n",
       "    .dataframe tbody tr th:only-of-type {\n",
       "        vertical-align: middle;\n",
       "    }\n",
       "\n",
       "    .dataframe tbody tr th {\n",
       "        vertical-align: top;\n",
       "    }\n",
       "\n",
       "    .dataframe thead th {\n",
       "        text-align: right;\n",
       "    }\n",
       "</style>\n",
       "<table border=\"1\" class=\"dataframe\">\n",
       "  <thead>\n",
       "    <tr style=\"text-align: right;\">\n",
       "      <th></th>\n",
       "      <th>Minimum</th>\n",
       "      <th>Average</th>\n",
       "      <th>Maximum</th>\n",
       "    </tr>\n",
       "    <tr>\n",
       "      <th>Date</th>\n",
       "      <th></th>\n",
       "      <th></th>\n",
       "      <th></th>\n",
       "    </tr>\n",
       "  </thead>\n",
       "  <tbody>\n",
       "    <tr>\n",
       "      <th>2018-02-05</th>\n",
       "      <td>59.0</td>\n",
       "      <td>69.684211</td>\n",
       "      <td>80.0</td>\n",
       "    </tr>\n",
       "    <tr>\n",
       "      <th>2018-02-06</th>\n",
       "      <td>58.0</td>\n",
       "      <td>70.389831</td>\n",
       "      <td>77.0</td>\n",
       "    </tr>\n",
       "    <tr>\n",
       "      <th>2018-02-07</th>\n",
       "      <td>60.0</td>\n",
       "      <td>69.000000</td>\n",
       "      <td>77.0</td>\n",
       "    </tr>\n",
       "    <tr>\n",
       "      <th>2018-02-08</th>\n",
       "      <td>56.0</td>\n",
       "      <td>66.754386</td>\n",
       "      <td>74.0</td>\n",
       "    </tr>\n",
       "    <tr>\n",
       "      <th>2018-02-09</th>\n",
       "      <td>57.0</td>\n",
       "      <td>67.589286</td>\n",
       "      <td>75.0</td>\n",
       "    </tr>\n",
       "    <tr>\n",
       "      <th>2018-02-10</th>\n",
       "      <td>56.0</td>\n",
       "      <td>68.416667</td>\n",
       "      <td>76.0</td>\n",
       "    </tr>\n",
       "    <tr>\n",
       "      <th>2018-02-11</th>\n",
       "      <td>61.0</td>\n",
       "      <td>69.250000</td>\n",
       "      <td>79.0</td>\n",
       "    </tr>\n",
       "    <tr>\n",
       "      <th>2018-02-12</th>\n",
       "      <td>60.0</td>\n",
       "      <td>69.157895</td>\n",
       "      <td>78.0</td>\n",
       "    </tr>\n",
       "    <tr>\n",
       "      <th>2018-02-13</th>\n",
       "      <td>58.0</td>\n",
       "      <td>70.362069</td>\n",
       "      <td>80.0</td>\n",
       "    </tr>\n",
       "    <tr>\n",
       "      <th>2018-02-14</th>\n",
       "      <td>62.0</td>\n",
       "      <td>70.894737</td>\n",
       "      <td>79.0</td>\n",
       "    </tr>\n",
       "    <tr>\n",
       "      <th>2018-02-15</th>\n",
       "      <td>56.0</td>\n",
       "      <td>70.288136</td>\n",
       "      <td>79.0</td>\n",
       "    </tr>\n",
       "  </tbody>\n",
       "</table>\n",
       "</div>"
      ],
      "text/plain": [
       "            Minimum    Average  Maximum\n",
       "Date                                   \n",
       "2018-02-05     59.0  69.684211     80.0\n",
       "2018-02-06     58.0  70.389831     77.0\n",
       "2018-02-07     60.0  69.000000     77.0\n",
       "2018-02-08     56.0  66.754386     74.0\n",
       "2018-02-09     57.0  67.589286     75.0\n",
       "2018-02-10     56.0  68.416667     76.0\n",
       "2018-02-11     61.0  69.250000     79.0\n",
       "2018-02-12     60.0  69.157895     78.0\n",
       "2018-02-13     58.0  70.362069     80.0\n",
       "2018-02-14     62.0  70.894737     79.0\n",
       "2018-02-15     56.0  70.288136     79.0"
      ]
     },
     "execution_count": 16,
     "metadata": {},
     "output_type": "execute_result"
    }
   ],
   "source": [
    "# Load the previous query results into a Pandas DataFrame and add the `trip_dates` range as the `date` index\n",
    "df_results = pd.DataFrame(date_range)\n",
    "df_results = df_results.rename(columns={0:\"Date\"})\n",
    "df_results = df_results.set_index(\"Date\")\n",
    "\n",
    "list_min = []\n",
    "list_avg = []\n",
    "list_max = []\n",
    "for s in strip_range:\n",
    "    daily = daily_normals(s)\n",
    "    for d in daily:\n",
    "        list_min_s = d[0]\n",
    "        list_min.append(list_min_s)\n",
    "        list_avg_s = d[1]\n",
    "        list_avg.append(list_avg_s)\n",
    "        list_max_s = d[2]\n",
    "        list_max.append(list_max_s)\n",
    "df_results['Minimum'] = list_min\n",
    "df_results['Average'] = list_avg\n",
    "df_results['Maximum'] = list_max\n",
    "\n",
    "df_results"
   ]
  },
  {
   "cell_type": "markdown",
   "metadata": {},
   "source": [
    "# Temperature Analysis I"
   ]
  },
  {
   "cell_type": "code",
   "execution_count": 17,
   "metadata": {},
   "outputs": [
    {
     "data": {
      "image/png": "[encoded data removed]",
      "text/plain": [
       "<Figure size 432x288 with 1 Axes>"
      ]
     },
     "metadata": {
      "needs_background": "light"
     },
     "output_type": "display_data"
    }
   ],
   "source": [
    "# Plot the daily normals as an area plot with `stacked=False`\n",
    "plot_date = df_results.index\n",
    "plot_min = df_results['Minimum']\n",
    "plot_avg = df_results['Average']\n",
    "plot_max = df_results['Maximum']\n",
    "\n",
    "plt.fill_between(plot_date, plot_max, color=\"plum\",\n",
    "                 alpha=0.5, label='Max Temp')\n",
    "plt.plot(plot_date, plot_max, alpha=0.75, color=\"plum\")\n",
    "plt.fill_between(plot_date, plot_avg, color=\"mediumpurple\",\n",
    "                 alpha=0.5, label='Avg Temp')\n",
    "plt.plot(plot_date, plot_avg, alpha=0.75, color=\"mediumpurple\")\n",
    "plt.fill_between(plot_date, plot_min, color=\"darkorchid\",\n",
    "                 alpha=0.5, label='Min Temp')\n",
    "plt.plot(plot_date, plot_min, alpha=0.75, color=\"darkorchid\")\n",
    "\n",
    "plt.legend()\n",
    "plt.xlabel(\"Date\")\n",
    "plt.ylabel(\"Temperature in °F\")\n",
    "plt.title(\"Average temperatures over the past years\")\n",
    "plt.xticks(plot_date, rotation=45)\n",
    "plt.show()"
   ]
  },
  {
   "cell_type": "code",
   "execution_count": 18,
   "metadata": {},
   "outputs": [
    {
     "name": "stdout",
     "output_type": "stream",
     "text": [
      "[(62.0, 69.57142857142857, 74.0)]\n"
     ]
    }
   ],
   "source": [
    "# This function called `calc_temps` will accept start date and end date in the format '%Y-%m-%d' \n",
    "# and return the minimum, average, and maximum temperatures for that range of dates\n",
    "def calc_temps(start_date, end_date):\n",
    "    \"\"\"TMIN, TAVG, and TMAX for a list of dates.\n",
    "    \n",
    "    Args:\n",
    "        start_date (string): A date string in the format %Y-%m-%d\n",
    "        end_date (string): A date string in the format %Y-%m-%d\n",
    "        \n",
    "    Returns:\n",
    "        TMIN, TAVE, and TMAX\n",
    "    \"\"\"\n",
    "    \n",
    "    return session.query(func.min(Measurement.tobs), func.avg(Measurement.tobs), func.max(Measurement.tobs)).\\\n",
    "        filter(Measurement.date >= start_date).filter(Measurement.date <= end_date).all()\n",
    "\n",
    "# function usage example\n",
    "print(calc_temps('2012-02-28', '2012-03-05'))"
   ]
  },
  {
   "cell_type": "code",
   "execution_count": 19,
   "metadata": {},
   "outputs": [],
   "source": [
    "# Identify the average temperature in June at all stations across all available years in the dataset. \n",
    "# Do the same for December temperature.\n",
    "# Use the t-test to determine whether the difference in the means, if any, is statistically significant. \n",
    "# Will you use a paired t-test, or an unpaired t-test? Why?\n",
    "def get_montly_averages(month):\n",
    "    \"\"\"List of Monthly Averages\n",
    "    \n",
    "    Args:\n",
    "        date (str): A date string indicating a month number in the format '%MM'\n",
    "        \n",
    "    Returns:\n",
    "        A list of tuples containing the daily tavg\n",
    "    \n",
    "    \"\"\"\n",
    "    get_range = []\n",
    "    i = 1\n",
    "\n",
    "    while i <= 31:\n",
    "        if i <= 9:\n",
    "            get_data = daily_normals(str(month) + '-0' + str(i))\n",
    "        else:\n",
    "            get_data = daily_normals(str(month) + '-' + str(i))\n",
    "        for d in get_data:\n",
    "            if d[0] is not 'None':\n",
    "                get_range.append(d[1])\n",
    "        i = i+1\n",
    "\n",
    "    return get_range"
   ]
  },
  {
   "cell_type": "code",
   "execution_count": 20,
   "metadata": {},
   "outputs": [],
   "source": [
    "# month1 = input(\"First month (MM): \")\n",
    "# month2 = input(\"Second month (MM): \")\n",
    "\n",
    "month1 = '06'\n",
    "month2 = '12'\n",
    "\n",
    "df1 = pd.DataFrame(get_montly_averages(month1))\n",
    "df2 = pd.DataFrame(get_montly_averages(month2))\n",
    "\n",
    "df1 = df1.dropna(how='any')\n",
    "df2 = df2.dropna(how='any')"
   ]
  },
  {
   "cell_type": "code",
   "execution_count": 21,
   "metadata": {},
   "outputs": [
    {
     "data": {
      "text/plain": [
       "Ttest_indResult(statistic=17.619694805351532, pvalue=5.093309139082608e-22)"
      ]
     },
     "execution_count": 21,
     "metadata": {},
     "output_type": "execute_result"
    }
   ],
   "source": [
    "stats.ttest_ind(df1[0].fillna(0) , df2[0].fillna(0), equal_var=False)"
   ]
  },
  {
   "cell_type": "markdown",
   "metadata": {},
   "source": [
    "# Temperature Analysis II"
   ]
  },
  {
   "cell_type": "code",
   "execution_count": 22,
   "metadata": {},
   "outputs": [
    {
     "name": "stdout",
     "output_type": "stream",
     "text": [
      "[(58.0, 74.59058295964125, 87.0)]\n",
      "From: 2016-08-23\n",
      "To: 2017-08-23\n"
     ]
    }
   ],
   "source": [
    "# Use your previous function `calc_temps` to calculate the tmin, tavg, and tmax \n",
    "# for your trip using the previous year's data for those same dates.\n",
    "data_for_chart = calc_temps(min_date, max_date)\n",
    "print(calc_temps(min_date, max_date))\n",
    "print(f\"From: {min_date}\")\n",
    "print(f\"To: {max_date}\")"
   ]
  },
  {
   "cell_type": "code",
   "execution_count": 23,
   "metadata": {},
   "outputs": [
    {
     "name": "stderr",
     "output_type": "stream",
     "text": [
      "C:\\Users\\dutch\\Anaconda3\\envs\\PythonData\\lib\\site-packages\\ipykernel_launcher.py:18: MatplotlibDeprecationWarning: Adding an axes using the same arguments as a previous axes currently reuses the earlier instance.  In a future version, a new instance will always be created and returned.  Meanwhile, this warning can be suppressed, and the future behavior ensured, by passing a unique label to each axes instance.\n"
     ]
    },
    {
     "data": {
      "text/plain": [
       "<ErrorbarContainer object of 3 artists>"
      ]
     },
     "execution_count": 23,
     "metadata": {},
     "output_type": "execute_result"
    },
    {
     "data": {
      "image/png": "[encoded data removed]",
      "text/plain": [
       "<Figure size 432x288 with 1 Axes>"
      ]
     },
     "metadata": {
      "needs_background": "light"
     },
     "output_type": "display_data"
    }
   ],
   "source": [
    "# Plot the results from your previous query as a bar chart. \n",
    "# Use \"Trip Avg Temp\" as your Title\n",
    "# Use the average temperature for the y value\n",
    "# Use the peak-to-peak (tmax-tmin) value as the y error bar (yerr)\n",
    "\n",
    "x = 0.5\n",
    "range = []\n",
    "for d in data_for_chart:\n",
    "    y = d[1]\n",
    "    yerr = np.std([d[0],d[2]])/np.sqrt(2)\n",
    "\n",
    "plt.bar(x, y, width=0.8, bottom=None, align='center', color = 'plum', alpha = 0.75)\n",
    "plt.xlabel(\"\")\n",
    "plt.xticks([])\n",
    "plt.ylabel(\"Temperature in °F\")\n",
    "plt.title(\"Trip Avg Temp\")\n",
    "\n",
    "ax = plt.subplot(111)\n",
    "ax.errorbar(x, y, yerr, fmt=\"o\")\n",
    "\n",
    "# Note to TA: For the life of me I couldn't get the width of the chart to become smaller"
   ]
  },
  {
   "cell_type": "code",
   "execution_count": 24,
   "metadata": {},
   "outputs": [
    {
     "name": "stdout",
     "output_type": "stream",
     "text": [
      "Start Date Current Year: 2017-05-05\n",
      "End Date Current Year: 2017-05-14\n",
      "Start Date Previous Year: 2016-05-05\n",
      "End Date Previous Year: 2016-05-14\n"
     ]
    },
    {
     "data": {
      "text/html": [
       "<div>\n",
       "<style scoped>\n",
       "    .dataframe tbody tr th:only-of-type {\n",
       "        vertical-align: middle;\n",
       "    }\n",
       "\n",
       "    .dataframe tbody tr th {\n",
       "        vertical-align: top;\n",
       "    }\n",
       "\n",
       "    .dataframe thead th {\n",
       "        text-align: right;\n",
       "    }\n",
       "</style>\n",
       "<table border=\"1\" class=\"dataframe\">\n",
       "  <thead>\n",
       "    <tr style=\"text-align: right;\">\n",
       "      <th></th>\n",
       "      <th>station</th>\n",
       "      <th>name</th>\n",
       "      <th>rainfall</th>\n",
       "      <th>latitude</th>\n",
       "      <th>longitude</th>\n",
       "      <th>elevation</th>\n",
       "    </tr>\n",
       "  </thead>\n",
       "  <tbody>\n",
       "    <tr>\n",
       "      <th>0</th>\n",
       "      <td>USC00513117</td>\n",
       "      <td>KANEOHE 838.1, HI US</td>\n",
       "      <td>3.60</td>\n",
       "      <td>21.42340</td>\n",
       "      <td>-157.80150</td>\n",
       "      <td>14.6</td>\n",
       "    </tr>\n",
       "    <tr>\n",
       "      <th>1</th>\n",
       "      <td>USC00519281</td>\n",
       "      <td>WAIHEE 837.5, HI US</td>\n",
       "      <td>3.27</td>\n",
       "      <td>21.45167</td>\n",
       "      <td>-157.84889</td>\n",
       "      <td>32.9</td>\n",
       "    </tr>\n",
       "    <tr>\n",
       "      <th>2</th>\n",
       "      <td>USC00519523</td>\n",
       "      <td>WAIMANALO EXPERIMENTAL FARM, HI US</td>\n",
       "      <td>2.90</td>\n",
       "      <td>21.33556</td>\n",
       "      <td>-157.71139</td>\n",
       "      <td>19.5</td>\n",
       "    </tr>\n",
       "    <tr>\n",
       "      <th>3</th>\n",
       "      <td>USC00516128</td>\n",
       "      <td>MANOA LYON ARBO 785.2, HI US</td>\n",
       "      <td>2.07</td>\n",
       "      <td>21.33310</td>\n",
       "      <td>-157.80250</td>\n",
       "      <td>152.4</td>\n",
       "    </tr>\n",
       "    <tr>\n",
       "      <th>4</th>\n",
       "      <td>USC00514830</td>\n",
       "      <td>KUALOA RANCH HEADQUARTERS 886.9, HI US</td>\n",
       "      <td>0.56</td>\n",
       "      <td>21.52130</td>\n",
       "      <td>-157.83740</td>\n",
       "      <td>7.0</td>\n",
       "    </tr>\n",
       "    <tr>\n",
       "      <th>5</th>\n",
       "      <td>USC00517948</td>\n",
       "      <td>PEARL CITY, HI US</td>\n",
       "      <td>0.44</td>\n",
       "      <td>21.39340</td>\n",
       "      <td>-157.97510</td>\n",
       "      <td>11.9</td>\n",
       "    </tr>\n",
       "    <tr>\n",
       "      <th>6</th>\n",
       "      <td>USC00519397</td>\n",
       "      <td>WAIKIKI 717.2, HI US</td>\n",
       "      <td>0.16</td>\n",
       "      <td>21.27160</td>\n",
       "      <td>-157.81680</td>\n",
       "      <td>3.0</td>\n",
       "    </tr>\n",
       "  </tbody>\n",
       "</table>\n",
       "</div>"
      ],
      "text/plain": [
       "       station                                    name  rainfall  latitude  \\\n",
       "0  USC00513117                    KANEOHE 838.1, HI US      3.60  21.42340   \n",
       "1  USC00519281                     WAIHEE 837.5, HI US      3.27  21.45167   \n",
       "2  USC00519523      WAIMANALO EXPERIMENTAL FARM, HI US      2.90  21.33556   \n",
       "3  USC00516128            MANOA LYON ARBO 785.2, HI US      2.07  21.33310   \n",
       "4  USC00514830  KUALOA RANCH HEADQUARTERS 886.9, HI US      0.56  21.52130   \n",
       "5  USC00517948                       PEARL CITY, HI US      0.44  21.39340   \n",
       "6  USC00519397                    WAIKIKI 717.2, HI US      0.16  21.27160   \n",
       "\n",
       "   longitude  elevation  \n",
       "0 -157.80150       14.6  \n",
       "1 -157.84889       32.9  \n",
       "2 -157.71139       19.5  \n",
       "3 -157.80250      152.4  \n",
       "4 -157.83740        7.0  \n",
       "5 -157.97510       11.9  \n",
       "6 -157.81680        3.0  "
      ]
     },
     "execution_count": 24,
     "metadata": {},
     "output_type": "execute_result"
    }
   ],
   "source": [
    "# Calculate the total amount of rainfall per weather station for your trip dates using the previous year's matching dates.\n",
    "# Sort this in descending order by precipitation amount and list the station, name, latitude, longitude, and elevation\n",
    "\n",
    "def get_rainfall(start_date, end_date):\n",
    "    \"\"\"Total rainfall per weather station for given dates -/- a year\n",
    "    \n",
    "    Args:\n",
    "        start_date (string): A date string in the format %Y-%m-%d\n",
    "        end_date (string): A date string in the format %Y-%m-%d\n",
    "        \n",
    "    Returns:\n",
    "        Station name, Station id, Rainfall, Latitude, Longetude, Elevation\n",
    "    \"\"\"\n",
    "    start_year = int(start_date[0:4]) \n",
    "    last_start_year = int(start_date[0:4])-1\n",
    "    end_year = int(end_date[0:4])\n",
    "    last_end_year = int(end_date[0:4])-1\n",
    "    start_date_ly = start_date.replace(str(start_year),str(last_start_year))\n",
    "    end_date_ly = end_date.replace(str(end_year),str(last_end_year))\n",
    "    print(f\"Start Date Current Year: {start_date}\")\n",
    "    print(f\"End Date Current Year: {end_date}\")\n",
    "    print(f\"Start Date Previous Year: {start_date_ly}\")\n",
    "    print(f\"End Date Previous Year: {end_date_ly}\")\n",
    "    \n",
    "    sql_rainfall = \"SELECT s.station, s.name, SUM(m.prcp) as rainfall, s.latitude, s.longitude, s.elevation \\\n",
    "                    FROM measurement m INNER JOIN station s ON m.station=s.station \\\n",
    "                    WHERE m.date between'\" + start_date_ly + \"' and '\" + end_date_ly + \"' \\\n",
    "                    GROUP BY s.name, s.station, s.latitude, s.longitude, s.elevation \\\n",
    "                    ORDER BY SUM(m.prcp) DESC\"\n",
    "    \n",
    "    return pd.read_sql(sql_rainfall, con=connection)\n",
    "\n",
    "get_rainfall('2017-05-05', '2017-05-14')\n"
   ]
  }
 ],
 "metadata": {
  "kernel_info": {
   "name": "python3"
  },
  "kernelspec": {
   "display_name": "Python [conda env:PythonData]",
   "language": "python",
   "name": "conda-env-PythonData-py"
  },
  "language_info": {
   "codemirror_mode": {
    "name": "ipython",
    "version": 3
   },
   "file_extension": ".py",
   "mimetype": "text/x-python",
   "name": "python",
   "nbconvert_exporter": "python",
   "pygments_lexer": "ipython3",
   "version": "3.6.9"
  },
  "nteract": {
   "version": "0.12.3"
  },
  "varInspector": {
   "cols": {
    "lenName": 16,
    "lenType": 16,
    "lenVar": 40
   },
   "kernels_config": {
    "python": {
     "delete_cmd_postfix": "",
     "delete_cmd_prefix": "del ",
     "library": "var_list.py",
     "varRefreshCmd": "print(var_dic_list())"
    },
    "r": {
     "delete_cmd_postfix": ") ",
     "delete_cmd_prefix": "rm(",
     "library": "var_list.r",
     "varRefreshCmd": "cat(var_dic_list()) "
    }
   },
   "types_to_exclude": [
    "module",
    "function",
    "builtin_function_or_method",
    "instance",
    "_Feature"
   ],
   "window_display": false
  }
 },
 "nbformat": 4,
 "nbformat_minor": 2
}
